{
 "cells": [
  {
   "cell_type": "markdown",
   "id": "776d7533",
   "metadata": {},
   "source": [
    "# STA365 Homework 2"
   ]
  },
  {
   "cell_type": "markdown",
   "id": "e80a5aa7",
   "metadata": {},
   "source": [
    "### Question 1"
   ]
  },
  {
   "cell_type": "markdown",
   "id": "244a0c3d",
   "metadata": {},
   "source": [
    "**Likelihood (Binomial):**\n",
    "\n",
    "$$\n",
    "P(\\mathbf{x} | \\boldsymbol{\\theta}, n) = \\binom{n}{x} \\theta^x (1 - \\theta)^{n - x} \\propto \\theta^x (1 - \\theta)^{n - x}\n",
    "$$\n",
    "\n",
    "**Prior (Discrete Uniform):**\n",
    "\n",
    "$$\n",
    "P(\\theta) =\n",
    "\\begin{cases} \n",
    "\\frac{1}{101} & \\text{for } \\theta = \\frac{i}{100}, \\, i = 0, 1, \\dots, 100 \\\\[8pt]\n",
    "0 & \\text{otherwise}.\n",
    "\\end{cases}\n",
    "$$\n",
    "\n",
    "**Posterior:**\n",
    "\n",
    "$$\n",
    "P(\\boldsymbol{\\theta} | \\mathbf{x}, n) \\propto \\theta^x (1 - \\theta)^{n - x} \\frac{1}{101} \\propto \\theta^x (1 - \\theta)^{n - x}\n",
    "$$"
   ]
  },
  {
   "cell_type": "markdown",
   "id": "e7d5c8f7",
   "metadata": {},
   "source": [
    "Therefore, the posterior follows a discrete distribution, which is proportional to the binomial likelihood function, evaluated over the discrete values of $\\theta = \\frac{i}{100}, \\, i = 0, 1, \\dots, 100$."
   ]
  },
  {
   "cell_type": "markdown",
   "id": "bb23b586",
   "metadata": {},
   "source": [
    "### Question 2"
   ]
  },
  {
   "cell_type": "markdown",
   "id": "f4e64010",
   "metadata": {},
   "source": [
    "1.  $p(\\boldsymbol{\\theta_j}|x_j^{(t)},n_j^{(t)})$ is the posterior distribution of $\\boldsymbol{\\theta_j}$ under a model with Beta prior and Binomial likelihood (Beta-Binomial model)."
   ]
  },
  {
   "cell_type": "markdown",
   "id": "e079fbc7",
   "metadata": {},
   "source": [
    "2."
   ]
  },
  {
   "cell_type": "code",
   "execution_count": 1,
   "id": "6e2b1926",
   "metadata": {},
   "outputs": [
    {
     "name": "stdout",
     "output_type": "stream",
     "text": [
      "Step 0: n_j = 0, x_j = 0\n",
      "Step 1: n_j = 1, x_j = 1\n",
      "Step 2: n_j = 2, x_j = 2\n",
      "Step 3: n_j = 3, x_j = 3\n",
      "Step 4: n_j = 4, x_j = 4\n",
      "Step 5: n_j = 5, x_j = 5\n",
      "Step 6: n_j = 6, x_j = 6\n",
      "Step 7: n_j = 7, x_j = 7\n",
      "Step 8: n_j = 8, x_j = 8\n",
      "Step 9: n_j = 9, x_j = 9\n"
     ]
    }
   ],
   "source": [
    "m = 10  # 10 time steps\n",
    "n_j = [0]\n",
    "x_j = [0]\n",
    "\n",
    "# example of iterations\n",
    "\n",
    "for t in range(m): #10 iterations\n",
    "    print(f\"Step {t}: n_j = {n_j[t]}, x_j = {x_j[t]}\")\n",
    "    \n",
    "    n_j.append(n_j[t] + 1)\n",
    "    x_j.append(x_j[t] + 1)\n"
   ]
  },
  {
   "cell_type": "markdown",
   "id": "11bd18b8",
   "metadata": {},
   "source": [
    "3. and 4."
   ]
  },
  {
   "cell_type": "code",
   "execution_count": 15,
   "id": "af15bce0",
   "metadata": {},
   "outputs": [
    {
     "name": "stdout",
     "output_type": "stream",
     "text": [
      "Step 0: P(theta_1 < theta_2) = 0.4992\n",
      "n1 = 0, x1 = 0, n2 = 1, x2 = 1\n",
      "Step 1: P(theta_1 < theta_2) = 0.6668\n",
      "n1 = 0, x1 = 0, n2 = 2, x2 = 1\n",
      "Step 2: P(theta_1 < theta_2) = 0.5073\n",
      "n1 = 0, x1 = 0, n2 = 3, x2 = 1\n",
      "Step 3: P(theta_1 < theta_2) = 0.4034\n",
      "n1 = 1, x1 = 0, n2 = 3, x2 = 1\n",
      "Step 4: P(theta_1 < theta_2) = 0.5946\n",
      "n1 = 2, x1 = 1, n2 = 3, x2 = 1\n",
      "Step 5: P(theta_1 < theta_2) = 0.3727\n",
      "n1 = 2, x1 = 1, n2 = 4, x2 = 1\n",
      "Step 6: P(theta_1 < theta_2) = 0.2818\n",
      "n1 = 3, x1 = 2, n2 = 4, x2 = 1\n",
      "Step 7: P(theta_1 < theta_2) = 0.1700\n",
      "n1 = 3, x1 = 2, n2 = 5, x2 = 1\n",
      "Step 8: P(theta_1 < theta_2) = 0.1233\n",
      "n1 = 3, x1 = 2, n2 = 6, x2 = 2\n",
      "Step 9: P(theta_1 < theta_2) = 0.1977\n",
      "n1 = 4, x1 = 3, n2 = 6, x2 = 2\n"
     ]
    }
   ],
   "source": [
    "import numpy as np\n",
    "from scipy.stats import beta\n",
    "\n",
    "# true theta/success probabilities\n",
    "theta1_true = 0.6\n",
    "theta2_true = 0.4\n",
    "\n",
    "# initial values\n",
    "n1 = [0]\n",
    "x1 = [0]\n",
    "n2 = [0]\n",
    "x2 = [0]\n",
    "\n",
    "m = 10\n",
    "\n",
    "np.random.seed(365)\n",
    "\n",
    "for t in range(m):\n",
    "    # posterior samples for theta1, theta2\n",
    "    posterior_theta1 = beta.rvs(a=x1[t] + 1, b=n1[t] - x1[t] + 1, size=10000)\n",
    "    posterior_theta2 = beta.rvs(a=x2[t] + 1, b=n2[t] - x2[t] + 1, size=10000)\n",
    "\n",
    "    # P(theta_1 < theta_2)\n",
    "    p_theta1_lessthan_theta2 = np.mean(posterior_theta1 < posterior_theta2)\n",
    "\n",
    "    # coin flip based on probabilities\n",
    "    if np.random.rand() < p_theta1_lessthan_theta2:\n",
    "        # use theta2_true\n",
    "        outcome = np.random.rand() < theta2_true\n",
    "        n2.append(n2[t] + 1)\n",
    "        x2.append(x2[t] + (1 if outcome else 0))\n",
    "        n1.append(n1[t])\n",
    "        x1.append(x1[t])\n",
    "    else:\n",
    "        # use theta1_true\n",
    "        outcome = np.random.rand() < theta1_true\n",
    "        n1.append(n1[t] + 1)\n",
    "        x1.append(x1[t] + (1 if outcome else 0))\n",
    "        n2.append(n2[t])\n",
    "        x2.append(x2[t])\n",
    "\n",
    "        # algorithm's calculations of P(theta_1 < theta_2) over time\n",
    "    print(f\"Step {t}: P(theta_1 < theta_2) = {p_theta1_lessthan_theta2:.4f}\")\n",
    "    print(f\"n1 = {n1[-1]}, x1 = {x1[-1]}, n2 = {n2[-1]}, x2 = {x2[-1]}\")"
   ]
  },
  {
   "cell_type": "markdown",
   "id": "f248cf07",
   "metadata": {},
   "source": [
    "5. After 10 iterations, the algorithm calculates $P(\\boldsymbol{\\theta_1}^{true} < \\boldsymbol{\\theta_2}^{true})=0.1977$, so it believes that $\\boldsymbol{\\theta_2}^{true}$ is smaller than $\\boldsymbol{\\theta_1}^{true}$."
   ]
  },
  {
   "cell_type": "markdown",
   "id": "f23740c8",
   "metadata": {},
   "source": [
    "Visualization of the algorithm's learning process over the 10 iterations:"
   ]
  },
  {
   "cell_type": "code",
   "execution_count": 19,
   "id": "f81b777c",
   "metadata": {},
   "outputs": [
    {
     "data": {
      "image/png": "[encoded data removed]",
      "text/plain": [
       "<Figure size 640x480 with 1 Axes>"
      ]
     },
     "metadata": {},
     "output_type": "display_data"
    }
   ],
   "source": [
    "import numpy as np\n",
    "import matplotlib.pyplot as plt\n",
    "\n",
    "np.random.seed(365)\n",
    "\n",
    "pr_values = []\n",
    "for t in range(len(n1)):\n",
    "    posterior_theta1 = beta.rvs(a=x1[t] + 1, b=n1[t] - x1[t] + 1, size=10000)\n",
    "    posterior_theta2 = beta.rvs(a=x2[t] + 1, b=n2[t] - x2[t] + 1, size=10000)\n",
    "    pr_values.append(np.mean(posterior_theta1 < posterior_theta2))\n",
    "\n",
    "plt.plot(range(len(pr_values)), pr_values, label=\"P(Theta_1 < Theta_2)\")\n",
    "plt.xlabel(\"Time Step\")\n",
    "plt.ylabel(\"Probability\")\n",
    "plt.title(\"P(Theta_1 < Theta_2) with each Time Step\")\n",
    "plt.legend()\n",
    "plt.show()"
   ]
  },
  {
   "cell_type": "markdown",
   "id": "26fa17c3",
   "metadata": {},
   "source": [
    "### Question 3"
   ]
  },
  {
   "cell_type": "markdown",
   "id": "789ac7ea",
   "metadata": {},
   "source": [
    "##### Analysis 1:"
   ]
  },
  {
   "cell_type": "code",
   "execution_count": 29,
   "id": "cf19be97",
   "metadata": {},
   "outputs": [
    {
     "name": "stdout",
     "output_type": "stream",
     "text": [
      "Theta_1: Beta(636, 366)\n",
      "Theta_2: Beta(414, 588)\n",
      "Theta_3: Beta(263, 739)\n"
     ]
    }
   ],
   "source": [
    "from scipy.stats import beta\n",
    "from scipy.stats import binom\n",
    "import numpy as np\n",
    "\n",
    "alphas = [1, 1, 1]\n",
    "betas = [1, 1, 1]\n",
    "\n",
    "np.random.seed(365)\n",
    "\n",
    "# simulated data\n",
    "n_trials = [1000, 1000, 1000]\n",
    "theta123_true_probabilities = [0.6, 0.4, 0.25]  # true success probs\n",
    "x = [binom.rvs(n_trials[i], theta123_true_probabilities[i]) for i in range(3)]  # simulated results\n",
    "\n",
    "# Update posterior parameters\n",
    "posterior_alpha = [alphas[i] + x[i] for i in range(3)]\n",
    "posterior_beta = [betas[i] + n_trials[i] - x[i] for i in range(3)]\n",
    "\n",
    "# posterior results, new beliefs\n",
    "for j in range(3):\n",
    "    print(f\"Theta_{j+1}: Beta({posterior_alpha[j]}, {posterior_beta[j]})\")"
   ]
  },
  {
   "cell_type": "markdown",
   "id": "2f10ae70",
   "metadata": {},
   "source": [
    "##### Analysis 2:"
   ]
  },
  {
   "cell_type": "code",
   "execution_count": 30,
   "id": "a9eff7a7",
   "metadata": {},
   "outputs": [
    {
     "name": "stdout",
     "output_type": "stream",
     "text": [
      "Updated Dirichlet: [1683, 612, 708]\n"
     ]
    }
   ],
   "source": [
    "from scipy.stats import dirichlet\n",
    "from scipy.stats import multinomial\n",
    "import numpy as np\n",
    "\n",
    "alphas_dirichlet = [1, 1, 1]\n",
    "\n",
    "np.random.seed(365)\n",
    "\n",
    "# simulated data\n",
    "thetas_dirichlet = dirichlet.rvs(alphas_dirichlet, size=1)[0]\n",
    "n_total = sum(n_trials)\n",
    "x_multinomial = multinomial.rvs(n=n_total, p=thetas_dirichlet)  # simulated results\n",
    "\n",
    "# Update parameters\n",
    "updated_alpha_dirichlet = [alphas_dirichlet[i] + x_multinomial[i] for i in range(3)]\n",
    "\n",
    "# posterior results\n",
    "print(f\"Updated Dirichlet: {updated_alpha_dirichlet}\")"
   ]
  },
  {
   "cell_type": "markdown",
   "id": "0e230fc6",
   "metadata": {},
   "source": [
    "When we know that the parameters of interest are independent, I think the Beta-Binomial model is better than the Dirichlet-Multinomial, as it is simpler to use.\n",
    "\n",
    "When a dependence exists or if we are unsure whether a dependence exists, I think Dirichlet-Multinomial is the better to model to use, as this model captures dependency between the arms.\n",
    "\n",
    "A real-world context where the Bayesian multi-armed bandit could be deployed is in the context of online ad marketing. If you have a website and can display three different ads to visitors, you can at first display each of the three ads the same amount of times (exploration). As you gather data and the model keeps updating, you will eventually see the proportion of times each ad is clicked on. The Bayesian multi-armed bandit method would then start showing ads with a higher proportion of times clicked more often, to try and maximize the number of ads clicked (exploitation)."
   ]
  }
 ],
 "metadata": {
  "kernelspec": {
   "display_name": "Python 3 (ipykernel)",
   "language": "python",
   "name": "python3"
  },
  "language_info": {
   "codemirror_mode": {
    "name": "ipython",
    "version": 3
   },
   "file_extension": ".py",
   "mimetype": "text/x-python",
   "name": "python",
   "nbconvert_exporter": "python",
   "pygments_lexer": "ipython3",
   "version": "3.11.6"
  }
 },
 "nbformat": 4,
 "nbformat_minor": 5
}
